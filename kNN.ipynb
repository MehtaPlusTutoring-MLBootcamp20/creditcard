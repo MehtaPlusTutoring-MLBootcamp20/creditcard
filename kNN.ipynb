{
 "cells": [
  {
   "cell_type": "code",
   "execution_count": null,
   "metadata": {
    "tags": []
   },
   "outputs": [],
   "source": [
    "import pandas as pd\n",
    "from sklearn.neighbors import KNeighborsClassifier\n",
    "from sklearn.metrics import (confusion_matrix,  \n",
    "    plot_confusion_matrix, accuracy_score, precision_score,       recall_score, f1_score)\n",
    "import numpy as np\n",
    "import statistics\n",
    "import matplotlib.pyplot as plt\n",
    "import pickle\n"
   ]
  },
  {
   "cell_type": "code",
   "execution_count": null,
   "metadata": {},
   "outputs": [],
   "source": [
    "path = '/Users/jennifer/Downloads/KNN_Model_Stuff/' \n",
    "\n",
    "X_train_path = path + 'train_features.csv'\n",
    "y_train_path = path + 'train_labels.csv'\n",
    "X_test_path = path + 'test_features.csv'\n",
    "y_test_path = path + 'test_labels.csv'\n",
    "\n",
    "X_train = pd.read_csv(X_train_path)\n",
    "y_train = pd.read_csv(y_train_path)\n",
    "X_test = pd.read_csv(X_test_path)\n",
    "y_test = pd.read_csv(y_test_path)"
   ]
  },
  {
   "cell_type": "code",
   "execution_count": null,
   "metadata": {
    "tags": []
   },
   "outputs": [],
   "source": [
    "for nn_neighbors in range(1, 11):\n",
    "  knn = KNeighborsClassifier(n_neighbors=nn_neighbors, weights='distance')\n",
    "  knn.fit(X_train, y_train)\n",
    "  y_pred = knn.predict(X_test)\n",
    "  accuracy = accuracy_score(y_test, y_pred)\n",
    "  recall = recall_score(y_test, y_pred)\n",
    "  print(\"Recall (%) for kNN with \", nn_neighbors, \" nearest neighbors is: \", round(recall * 100,2))"
   ]
  },
  {
   "cell_type": "code",
   "execution_count": null,
   "metadata": {
    "tags": []
   },
   "outputs": [],
   "source": [
    "knn = KNeighborsClassifier(n_neighbors=4, weights='distance')\n",
    "knn.fit(X_train, y_train)\n",
    "y_pred = knn.predict(X_test)\n",
    "accuracy = accuracy_score(y_test, y_pred)\n",
    "recall = recall_score(y_test, y_pred)\n",
    "print(\"Recall (%) for kNN with \", 4, \" nearest neighbors is: \", round(recall * 100,2))\n",
    "KNN_results = pd.DataFrame(y_pred)\n",
    "KNN_results.to_csv(path + 'KNN_results.csv', index=False)"
   ]
  },
  {
   "cell_type": "code",
   "execution_count": null,
   "metadata": {
    "tags": []
   },
   "outputs": [],
   "source": [
    "print(confusion_matrix(y_test, y_pred))"
   ]
  },
  {
   "cell_type": "code",
   "execution_count": null,
   "metadata": {},
   "outputs": [],
   "source": [
    "plot_confusion_matrix(knn, X_test, y_test, normalize='true', \n",
    "        include_values=True, cmap='Reds')\n",
    "plt.savefig('knn_confusion.png', dpi=300, bbox_inches='tight')"
   ]
  },
  {
   "cell_type": "code",
   "execution_count": null,
   "metadata": {},
   "outputs": [],
   "source": [
    "pickle.dump(knn, open(\"knn_model.pkl\",\"wb\"))"
   ]
  }
 ],
 "metadata": {
  "language_info": {
   "codemirror_mode": {
    "name": "ipython",
    "version": 3
   },
   "file_extension": ".py",
   "mimetype": "text/x-python",
   "name": "python",
   "nbconvert_exporter": "python",
   "pygments_lexer": "ipython3",
   "version": "3.7.7-final"
  },
  "orig_nbformat": 2,
  "kernelspec": {
   "name": "python37764bitmyenvcondaec86e0dc0cf34696927464793342a1b5",
   "display_name": "Python 3.7.7 64-bit ('myenv': conda)"
  }
 },
 "nbformat": 4,
 "nbformat_minor": 2
}